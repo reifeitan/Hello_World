{
  "nbformat": 4,
  "nbformat_minor": 0,
  "metadata": {
    "colab": {
      "name": "fraudEDA.ipynb",
      "provenance": [],
      "authorship_tag": "ABX9TyNm24czZ9WjNHBa25Dt7aVt",
      "include_colab_link": true
    },
    "kernelspec": {
      "name": "python3",
      "display_name": "Python 3"
    }
  },
  "cells": [
    {
      "cell_type": "markdown",
      "metadata": {
        "id": "view-in-github",
        "colab_type": "text"
      },
      "source": [
        "<a href=\"https://colab.research.google.com/github/reifeitan/Hello_World/blob/master-branch/fraudEDA.ipynb\" target=\"_parent\"><img src=\"https://colab.research.google.com/assets/colab-badge.svg\" alt=\"Open In Colab\"/></a>"
      ]
    },
    {
      "cell_type": "code",
      "metadata": {
        "id": "6wq8qwzJ-bYQ"
      },
      "source": [
        "import pandas as pd\n",
        "import numpy as np\n",
        "import matplotlib.pyplot as plt\n",
        "import seaborn as sns\n",
        "sns.set()\n",
        "\n",
        "pd.set_option('display.max_rows', 500)\n",
        "pd.set_option('display.max_columns', 500)\n",
        "pd.set_option('display.width', 1000)"
      ],
      "execution_count": 15,
      "outputs": []
    },
    {
      "cell_type": "markdown",
      "metadata": {
        "id": "n5EVPJbX_bhx"
      },
      "source": [
        "Reading the dataset"
      ]
    },
    {
      "cell_type": "code",
      "metadata": {
        "colab": {
          "base_uri": "https://localhost:8080/"
        },
        "id": "GhUX6pas-wGv",
        "outputId": "80377fc1-79a1-4023-f618-a8a61234a737"
      },
      "source": [
        "df = pd.read_csv('financialdataset.csv')\n",
        "print(df.shape)\n",
        "print(df.isnull().sum())\n",
        "print(df.head(3))"
      ],
      "execution_count": 29,
      "outputs": [
        {
          "output_type": "stream",
          "text": [
            "(6362620, 11)\n",
            "step              0\n",
            "type              0\n",
            "amount            0\n",
            "nameOrig          0\n",
            "oldbalanceOrg     0\n",
            "newbalanceOrig    0\n",
            "nameDest          0\n",
            "oldbalanceDest    0\n",
            "newbalanceDest    0\n",
            "isFraud           0\n",
            "isFlaggedFraud    0\n",
            "dtype: int64\n",
            "   step      type   amount     nameOrig  oldbalanceOrg  newbalanceOrig     nameDest  oldbalanceDest  newbalanceDest  isFraud  isFlaggedFraud\n",
            "0     1   PAYMENT  9839.64  C1231006815       170136.0       160296.36  M1979787155             0.0             0.0        0               0\n",
            "1     1   PAYMENT  1864.28  C1666544295        21249.0        19384.72  M2044282225             0.0             0.0        0               0\n",
            "2     1  TRANSFER   181.00  C1305486145          181.0            0.00   C553264065             0.0             0.0        1               0\n"
          ],
          "name": "stdout"
        }
      ]
    },
    {
      "cell_type": "markdown",
      "metadata": {
        "id": "ukoDsUWk_sl0"
      },
      "source": [
        "The power of pandas is reflected when using crosstab"
      ]
    },
    {
      "cell_type": "code",
      "metadata": {
        "colab": {
          "base_uri": "https://localhost:8080/",
          "height": 228
        },
        "id": "CXdLV9F0ADE5",
        "outputId": "d1acb600-981f-4ec5-9af3-6eb0289a0b48"
      },
      "source": [
        "dfpie = pd.crosstab(df.type, df.isFraud, margins=True, margins_name='Total', normalize='columns')\n",
        "dfpie.rename(columns={0 : 'Genuine', 1 : 'Fraud'},inplace=True)\n",
        "dfpie"
      ],
      "execution_count": 30,
      "outputs": [
        {
          "output_type": "execute_result",
          "data": {
            "text/html": [
              "<div>\n",
              "<style scoped>\n",
              "    .dataframe tbody tr th:only-of-type {\n",
              "        vertical-align: middle;\n",
              "    }\n",
              "\n",
              "    .dataframe tbody tr th {\n",
              "        vertical-align: top;\n",
              "    }\n",
              "\n",
              "    .dataframe thead th {\n",
              "        text-align: right;\n",
              "    }\n",
              "</style>\n",
              "<table border=\"1\" class=\"dataframe\">\n",
              "  <thead>\n",
              "    <tr style=\"text-align: right;\">\n",
              "      <th>isFraud</th>\n",
              "      <th>Genuine</th>\n",
              "      <th>Fraud</th>\n",
              "      <th>Total</th>\n",
              "    </tr>\n",
              "    <tr>\n",
              "      <th>type</th>\n",
              "      <th></th>\n",
              "      <th></th>\n",
              "      <th></th>\n",
              "    </tr>\n",
              "  </thead>\n",
              "  <tbody>\n",
              "    <tr>\n",
              "      <th>CASH_IN</th>\n",
              "      <td>0.220207</td>\n",
              "      <td>0.000000</td>\n",
              "      <td>0.219923</td>\n",
              "    </tr>\n",
              "    <tr>\n",
              "      <th>CASH_OUT</th>\n",
              "      <td>0.351470</td>\n",
              "      <td>0.501157</td>\n",
              "      <td>0.351663</td>\n",
              "    </tr>\n",
              "    <tr>\n",
              "      <th>DEBIT</th>\n",
              "      <td>0.006520</td>\n",
              "      <td>0.000000</td>\n",
              "      <td>0.006512</td>\n",
              "    </tr>\n",
              "    <tr>\n",
              "      <th>PAYMENT</th>\n",
              "      <td>0.338583</td>\n",
              "      <td>0.000000</td>\n",
              "      <td>0.338146</td>\n",
              "    </tr>\n",
              "    <tr>\n",
              "      <th>TRANSFER</th>\n",
              "      <td>0.083220</td>\n",
              "      <td>0.498843</td>\n",
              "      <td>0.083756</td>\n",
              "    </tr>\n",
              "  </tbody>\n",
              "</table>\n",
              "</div>"
            ],
            "text/plain": [
              "isFraud    Genuine     Fraud     Total\n",
              "type                                  \n",
              "CASH_IN   0.220207  0.000000  0.219923\n",
              "CASH_OUT  0.351470  0.501157  0.351663\n",
              "DEBIT     0.006520  0.000000  0.006512\n",
              "PAYMENT   0.338583  0.000000  0.338146\n",
              "TRANSFER  0.083220  0.498843  0.083756"
            ]
          },
          "metadata": {
            "tags": []
          },
          "execution_count": 30
        }
      ]
    },
    {
      "cell_type": "markdown",
      "metadata": {
        "id": "YqyzTMZRAOLU"
      },
      "source": [
        "Let's visualize it with pie charts"
      ]
    },
    {
      "cell_type": "code",
      "metadata": {
        "colab": {
          "base_uri": "https://localhost:8080/",
          "height": 390
        },
        "id": "vofGI-CMAJAy",
        "outputId": "1c6a9f85-71ef-4fbe-d13d-11f2f55b564f"
      },
      "source": [
        "colors = ['xkcd:light indigo', 'xkcd:light mauve', 'xkcd:pale violet', 'xkcd:faded purple', 'xkcd:faded blue']\n",
        "dfpie.plot(kind='pie', subplots=True, ylabel=\"\", figsize=(14,6),colors=colors, legend=False, wedgeprops=dict(width=0.5), autopct=\"%.1f%%\",\n",
        "           pctdistance=0.8, labeldistance=1.1, radius=.9, textprops={'fontsize':8, 'color':'black'}, title=['Genuine', 'Fraud', 'Total'])\n",
        "\n",
        "\n",
        "plt.suptitle('Breakdown of genuine and fraud transactions', size=20, weight='bold', ha='center')\n",
        "plt.tight_layout()\n",
        "\n",
        "plt.show()"
      ],
      "execution_count": 31,
      "outputs": [
        {
          "output_type": "display_data",
          "data": {
            "image/png": "[encoded data removed]",
            "text/plain": [
              "<Figure size 1008x432 with 3 Axes>"
            ]
          },
          "metadata": {
            "tags": []
          }
        }
      ]
    },
    {
      "cell_type": "markdown",
      "metadata": {
        "id": "JhetfujWAl65"
      },
      "source": [
        "Checking for the average amount of each transaction type by genuine/fraud, and visualizing it."
      ]
    },
    {
      "cell_type": "code",
      "metadata": {
        "colab": {
          "base_uri": "https://localhost:8080/",
          "height": 365
        },
        "id": "Dkiul-vtA4Am",
        "outputId": "85973cd8-c17e-4246-9abd-f997d95e0372"
      },
      "source": [
        "dfbar =pd.crosstab(df.type, df.isFraud, values=df.amount, aggfunc='mean')\n",
        "dfbar.rename(columns={0 : 'Genuine', 1 : 'Fraud'}, inplace=True)\n",
        "dfbar.sort_values('Genuine', inplace=True, ascending=False)\n",
        "dfbar.fillna(value=0, inplace=True)\n",
        "\n",
        "\n",
        "Genuine = round(dfbar['Genuine']/100).astype('int')\n",
        "Fraud = round(-dfbar['Fraud']/100).astype('int')\n",
        "\n",
        "fig, ax = plt.subplots(1,1, figsize=(14,5))\n",
        "ax.bar(dfbar.index, Genuine, width=0.65, color='xkcd:blue green', label='Genuine')\n",
        "ax.bar(dfbar.index, Fraud, width=0.65, color='xkcd:raspberry', label='Fraud')\n",
        "ax.set_ylim(-22000,17000)\n",
        "\n",
        "for i in dfbar.index:\n",
        "    ax.annotate(f\"{Genuine[i]}\",\n",
        "                   xy=(i, Genuine[i] + 520),\n",
        "                   va = 'center', ha='center',fontweight='light', fontfamily='serif',\n",
        "                   color='k')\n",
        "\n",
        "\n",
        "for i in dfbar.index:\n",
        "    if Fraud[i] == 0:\n",
        "        continue\n",
        "    else:\n",
        "         ax.annotate(f\"{-Fraud[i]}\",\n",
        "                   xy=(i, Fraud[i] - 870),\n",
        "                   va = 'center', ha='center',fontweight='light', fontfamily='serif',\n",
        "                   color='k')\n",
        "\n",
        "\n",
        "for s in ['top', 'left', 'right', 'bottom']:\n",
        "    ax.spines[s].set_visible(False)\n",
        "\n",
        "\n",
        "ax.tick_params(axis='x', labelsize=12)\n",
        "ax.set_yticks([])\n",
        "ax.legend()\n",
        "fig.text(0.16, 0.85, 'Genuine / Fraud Mean value for each transaction type', fontsize=18, fontweight='bold', fontfamily='serif')\n",
        "plt.tight_layout()\n",
        "plt.show()"
      ],
      "execution_count": 32,
      "outputs": [
        {
          "output_type": "display_data",
          "data": {
            "image/png": "[encoded data removed]",
            "text/plain": [
              "<Figure size 1008x360 with 1 Axes>"
            ]
          },
          "metadata": {
            "tags": []
          }
        }
      ]
    },
    {
      "cell_type": "markdown",
      "metadata": {
        "id": "s9D2Y__BA_5B"
      },
      "source": [
        "I wanted to try and see if clustering can help me dig deeper. <br>\n",
        "Here KMeans, and once I'm done exploring I'll check another clustering algo."
      ]
    },
    {
      "cell_type": "markdown",
      "metadata": {
        "id": "BvdZoXQTBt2F"
      },
      "source": [
        "I did some work for the features handling that later realized wasn't really needed, but it might help me with the exploration."
      ]
    },
    {
      "cell_type": "code",
      "metadata": {
        "id": "m_6HzAJ4BlyE"
      },
      "source": [
        "# Features handling\n",
        "\n",
        "# Names - Customers and Merchants\n",
        "dfml = df.copy()\n",
        "maskc1 = dfml['nameOrig'].str.startswith('C')\n",
        "maskm1 = dfml['nameOrig'].str.startswith('M')\n",
        "dfml.loc[maskc1, 'nameOrig'] = 0\n",
        "dfml.loc[maskm1, 'nameOrig'] = 1\n",
        "maskc2 = dfml['nameDest'].str.startswith('C')\n",
        "maskm2 = dfml['nameDest'].str.startswith('M')\n",
        "dfml.loc[maskc2, 'nameDest'] = 0\n",
        "dfml.loc[maskm2, 'nameDest'] = 1\n",
        "\n",
        "\n",
        "# Step - creating days and hours.\n",
        "dfml['day'] = dfml['step'].map(lambda t: t//24 + 1)\n",
        "dfml['hour'] = dfml['step'].map(lambda t: t%24)\n",
        "dfclusters = dfml.copy()\n",
        "# type\n",
        "from sklearn.preprocessing import LabelEncoder\n",
        "le = LabelEncoder()\n",
        "dfml['type1'] = le.fit_transform(dfml['type'])\n",
        "\n",
        "dfml.drop(['step', 'type', 'isFlaggedFraud','nameOrig','oldbalanceOrg','newbalanceOrig', 'nameDest', 'oldbalanceDest', 'newbalanceDest', 'day', 'hour'], axis=1, inplace=True)\n"
      ],
      "execution_count": 55,
      "outputs": []
    },
    {
      "cell_type": "markdown",
      "metadata": {
        "id": "IP9haAytB_Xg"
      },
      "source": [
        "I will check different numbers of clusters and see what works best <br>\n",
        "I used the \"elbow point\" - not very emprical I know, however it shows where lays the reasonable trade-off between error and number of clusters. <br>\n",
        "In our case the sweetspot seems the be 3-5 clusters. so I picked 4. <br>\n",
        "It ran for ages, so no chart is added."
      ]
    },
    {
      "cell_type": "code",
      "metadata": {
        "id": "6ouj_kkFCgX7"
      },
      "source": [
        "## KMeans\n",
        "\n",
        "from sklearn.cluster import KMeans\n",
        "from collections import Counter\n",
        "\n",
        "kmeans_kwargs = { 'init':'random',  'n_init' : 10, 'max_iter' :300, 'random_state':42}\n",
        "sse = []\n",
        "for k in range(1, 11):\n",
        "    kmeans = KMeans(n_clusters=k, **kmeans_kwargs)\n",
        "    kmeans.fit(dfml)\n",
        "    sse.append(kmeans.inertia_)\n",
        "\n",
        "labels = kmeans.labels_\n",
        "\n",
        "plt.style.use(\"fivethirtyeight\")\n",
        "plt.plot(range(1, 11), sse)\n",
        "plt.xticks(range(1, 11))\n",
        "plt.xlabel(\"Number of Clusters\")\n",
        "plt.ylabel(\"SSE\")\n",
        "plt.show()"
      ],
      "execution_count": null,
      "outputs": []
    },
    {
      "cell_type": "markdown",
      "metadata": {
        "id": "GDgXbysJD8jT"
      },
      "source": [
        "I'll take it from here with 4 clusters as explained above."
      ]
    },
    {
      "cell_type": "code",
      "metadata": {
        "colab": {
          "base_uri": "https://localhost:8080/"
        },
        "id": "IofKv_hpECnp",
        "outputId": "2c827015-0e71-46b4-fd2b-f4ca819ca0b4"
      },
      "source": [
        "from sklearn.cluster import KMeans\n",
        "from collections import Counter\n",
        "kmeans = KMeans(init='random',  n_init= 10, max_iter=300, random_state=42, n_clusters=4)\n",
        "kmeans.fit(dfml)\n",
        "predict = kmeans.predict(dfml)\n",
        "labels = kmeans.labels_\n",
        "print(Counter(labels))\n",
        "dfml['label'] = predict"
      ],
      "execution_count": 57,
      "outputs": [
        {
          "output_type": "stream",
          "text": [
            "Counter({1: 5487616, 0: 816274, 2: 51572, 3: 7158})\n"
          ],
          "name": "stdout"
        }
      ]
    },
    {
      "cell_type": "markdown",
      "metadata": {
        "id": "uKzQAOcdENWE"
      },
      "source": [
        "Adding the labels of the clusters to a df for visualizing."
      ]
    },
    {
      "cell_type": "code",
      "metadata": {
        "id": "BX4gheJBaciu"
      },
      "source": [
        "dfclusters = dfclusters.merge(dfml, left_index=True, right_index=True)\n",
        "dfclusters.head(1)"
      ],
      "execution_count": null,
      "outputs": []
    },
    {
      "cell_type": "code",
      "metadata": {
        "id": "d5E8AHAYZWK_"
      },
      "source": [
        "dfclusters.drop(['amount_y', 'isFraud_y', 'type1'], axis=1, inplace=True)\n",
        "crosstab = pd.crosstab(dfclusters.label, dfclusters.isFraud_x, normalize='index', margins_name='All', margins=True)\n",
        "crosstab.rename(columns={0 : 'Genuine', 1 : 'Fraud'},inplace=True)\n"
      ],
      "execution_count": null,
      "outputs": []
    },
    {
      "cell_type": "code",
      "metadata": {
        "colab": {
          "base_uri": "https://localhost:8080/",
          "height": 228
        },
        "id": "0inDr0Izcgv0",
        "outputId": "b5834bbd-9769-455f-dfd1-7f77d3fbf9af"
      },
      "source": [
        "crosstab"
      ],
      "execution_count": 60,
      "outputs": [
        {
          "output_type": "execute_result",
          "data": {
            "text/html": [
              "<div>\n",
              "<style scoped>\n",
              "    .dataframe tbody tr th:only-of-type {\n",
              "        vertical-align: middle;\n",
              "    }\n",
              "\n",
              "    .dataframe tbody tr th {\n",
              "        vertical-align: top;\n",
              "    }\n",
              "\n",
              "    .dataframe thead th {\n",
              "        text-align: right;\n",
              "    }\n",
              "</style>\n",
              "<table border=\"1\" class=\"dataframe\">\n",
              "  <thead>\n",
              "    <tr style=\"text-align: right;\">\n",
              "      <th>isFraud_x</th>\n",
              "      <th>Genuine</th>\n",
              "      <th>Fraud</th>\n",
              "    </tr>\n",
              "    <tr>\n",
              "      <th>label</th>\n",
              "      <th></th>\n",
              "      <th></th>\n",
              "    </tr>\n",
              "  </thead>\n",
              "  <tbody>\n",
              "    <tr>\n",
              "      <th>0</th>\n",
              "      <td>0.996509</td>\n",
              "      <td>0.003491</td>\n",
              "    </tr>\n",
              "    <tr>\n",
              "      <th>1</th>\n",
              "      <td>0.999367</td>\n",
              "      <td>0.000633</td>\n",
              "    </tr>\n",
              "    <tr>\n",
              "      <th>2</th>\n",
              "      <td>0.971360</td>\n",
              "      <td>0.028640</td>\n",
              "    </tr>\n",
              "    <tr>\n",
              "      <th>3</th>\n",
              "      <td>0.942163</td>\n",
              "      <td>0.057837</td>\n",
              "    </tr>\n",
              "    <tr>\n",
              "      <th>All</th>\n",
              "      <td>0.998709</td>\n",
              "      <td>0.001291</td>\n",
              "    </tr>\n",
              "  </tbody>\n",
              "</table>\n",
              "</div>"
            ],
            "text/plain": [
              "isFraud_x   Genuine     Fraud\n",
              "label                        \n",
              "0          0.996509  0.003491\n",
              "1          0.999367  0.000633\n",
              "2          0.971360  0.028640\n",
              "3          0.942163  0.057837\n",
              "All        0.998709  0.001291"
            ]
          },
          "metadata": {
            "tags": []
          },
          "execution_count": 60
        }
      ]
    },
    {
      "cell_type": "markdown",
      "metadata": {
        "id": "PKA7f6t7cG0N"
      },
      "source": [
        "Didn't want to have 'Cluster 0' so added 1 to each cluster number."
      ]
    },
    {
      "cell_type": "code",
      "metadata": {
        "colab": {
          "base_uri": "https://localhost:8080/",
          "height": 293
        },
        "id": "Lk-LoK4wEXes",
        "outputId": "7a6d125e-aed4-4766-b7a1-0fc5c391b1a6"
      },
      "source": [
        "sns.set(rc={'axes.facecolor':'xkcd:stone', 'figure.facecolor':'xkcd:fawn'})\n",
        "colors = ['xkcd:faded blue', 'xkcd:faded blue', 'xkcd:teal', 'xkcd:deep teal', 'xkcd:faded blue']\n",
        "ax = sns.barplot(x=crosstab.index, y=(crosstab.Fraud), palette=colors)\n",
        "ax.set_xticklabels(['Cluster 1','Cluster 2','Cluster 3','Cluster 4', 'All' ], rotation=20, ha='center')\n",
        "ax.set_yticklabels(\"\")\n",
        "ax.set_ylim(0,.075)\n",
        "ax.grid(False)\n",
        "sns.despine(left=True,bottom=True)\n",
        "plt.title('Fraud portion by cluster',size=20, weight='bold')\n",
        "plt.xlabel(\"\")\n",
        "plt.ylabel('')\n",
        "\n",
        "for p in ax.patches:\n",
        "    height = p.get_height()\n",
        "    ax.text(x=p.get_x()+(p.get_width()/2), y= height+0.005, s='{:.2%}'.format(height), ha ='center')\n",
        "\n",
        "plt.tight_layout()\n",
        "plt.show()"
      ],
      "execution_count": 39,
      "outputs": [
        {
          "output_type": "display_data",
          "data": {
            "image/png": "[encoded data removed]",
            "text/plain": [
              "<Figure size 432x288 with 1 Axes>"
            ]
          },
          "metadata": {
            "tags": []
          }
        }
      ]
    },
    {
      "cell_type": "markdown",
      "metadata": {
        "id": "gxdgXg1dEb6a"
      },
      "source": [
        "It looks interesting. I'll keep exploring and updating this notebook later this week."
      ]
    }
  ]
}